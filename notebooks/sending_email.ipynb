{
 "cells": [
  {
   "cell_type": "code",
   "execution_count": 23,
   "metadata": {},
   "outputs": [],
   "source": [
    "import os\n",
    "import smtplib\n",
    "from email.mime.text import MIMEText\n",
    "from email.mime.image import MIMEImage\n",
    "from email.mime.multipart import MIMEMultipart\n",
    "import os.path\n",
    "import email\n",
    "import glob"
   ]
  },
  {
   "cell_type": "code",
   "execution_count": null,
   "metadata": {},
   "outputs": [],
   "source": [
    "def sending_email():\n",
    "    want_results = input('Do you want to receive your results by email? (Y/N) ').upper().strip()\n",
    "\n",
    "    if want_results == 'Y':\n",
    "        os.environ['sender_password'] = 'ana.nikita.ana19'\n",
    "        os.environ['sender_email'] = 'alms.asantos@gmail.com'\n",
    "\n",
    "        # For this function to work you need to unable the settings here: https://myaccount.google.com/lesssecureapps\n",
    "        if 'sender_password' not in os.environ:\n",
    "            raise ValueError('You must enter a password')\n",
    "        elif 'sender_email' not in os.environ:\n",
    "            raise ValueError('You must enter an email')\n",
    "\n",
    "\n",
    "        #For the next 2 lines of code to work you need to create those two variables in os.environ\n",
    "        sender_email = os.environ['sender_email']\n",
    "        sender_password = os.environ['sender_password']\n",
    "\n",
    "        receiver = input('Write your email: ').strip()\n",
    "        try:\n",
    "            server = smtplib.SMTP('smtp.gmail.com', 587)\n",
    "            server.ehlo()\n",
    "            server.starttls()  # So the message will be encripted\n",
    "            server.ehlo()\n",
    "            server.login(sender_email, sender_password)\n",
    "\n",
    "        except:\n",
    "            print('Connection not working, try again later')\n",
    "\n",
    "        while not re.match(r\"[^@]+@[^@]+\\.[^@]+\", receiver):\n",
    "            print(\"The email you just entered it's not correct\")\n",
    "            receiver = input('Please try again: ')\n",
    "        print(f'Sending email to {receiver}')\n",
    "\n",
    "        img_data = open('../data/results/results.png', 'rb').read()\n",
    "        msg = MIMEMultipart()\n",
    "        msg['Subject'] = 'Results from billionaires in 2018'\n",
    "        msg['From'] = sender_email\n",
    "        msg['To'] = receiver\n",
    "\n",
    "        text = MIMEText('Below you have your desired results from the analysis of the most billionaires in 2018!')\n",
    "        msg.attach(text)\n",
    "        image = MIMEImage(img_data, name=os.path.basename('results.png'))\n",
    "        msg.attach(image)\n",
    "\n",
    "        image_path = ''.join(glob.glob('../data/results/*.jpg'))\n",
    "        if os.path.exists(image_path):\n",
    "            img_data1 = open(image_path, 'rb').read()\n",
    "            image1 = MIMEImage(img_data1, name=os.path.basename(image_path))\n",
    "            msg.attach(image1)\n",
    "\n",
    "        server.sendmail(msg['From'], msg['To'], msg.as_string())\n",
    "\n",
    "        print('Go check your email inbox, there you have it!')\n",
    "\n",
    "        server.close()\n",
    "\n",
    "    else:\n",
    "        print('Thanks for participating!')\n",
    "\n"
   ]
  }
 ],
 "metadata": {
  "kernelspec": {
   "display_name": "Python [conda env:data_env]",
   "language": "python",
   "name": "conda-env-data_env-py"
  },
  "language_info": {
   "codemirror_mode": {
    "name": "ipython",
    "version": 3
   },
   "file_extension": ".py",
   "mimetype": "text/x-python",
   "name": "python",
   "nbconvert_exporter": "python",
   "pygments_lexer": "ipython3",
   "version": "3.7.5"
  }
 },
 "nbformat": 4,
 "nbformat_minor": 2
}
